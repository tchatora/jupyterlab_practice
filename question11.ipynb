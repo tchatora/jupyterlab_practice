{
 "cells": [
  {
   "cell_type": "markdown",
   "id": "6775799e-3b00-4a23-95e0-2114d0de2156",
   "metadata": {},
   "source": [
    "# Tinashe Chatora \n",
    "\n",
    "Notebook for assignment 7."
   ]
  },
  {
   "cell_type": "code",
   "execution_count": 1,
   "id": "457b395f-ce53-4d9f-93e8-534da7ff31f5",
   "metadata": {},
   "outputs": [
    {
     "name": "stdout",
     "output_type": "stream",
     "text": [
      "5.0\n"
     ]
    }
   ],
   "source": [
    "import numpy as np\n",
    "print ( \n",
    "    np.mean([2,4,6,8]) \n",
    "      ) "
   ]
  },
  {
   "cell_type": "markdown",
   "id": "a930865c-c46e-428f-a4ca-99da73c21f08",
   "metadata": {},
   "source": [
    "To get the mean, code function `np.mean()` takes the `sum of the numbers` in the list and divides by the `number of values` in the list.\n",
    "Mathematically can be mathematically represented with the following formula:\n",
    "\n",
    "$$ \\bar x = \\frac{x_1 + x_2 + ... + x_n}{n} = \\frac{1}{n}\\Bigg(\\sum_{i=1}^{n} x_i\\Bigg) $$"
   ]
  }
 ],
 "metadata": {
  "kernelspec": {
   "display_name": "Python 3 (ipykernel)",
   "language": "python",
   "name": "python3"
  },
  "language_info": {
   "codemirror_mode": {
    "name": "ipython",
    "version": 3
   },
   "file_extension": ".py",
   "mimetype": "text/x-python",
   "name": "python",
   "nbconvert_exporter": "python",
   "pygments_lexer": "ipython3",
   "version": "3.12.3"
  }
 },
 "nbformat": 4,
 "nbformat_minor": 5
}
